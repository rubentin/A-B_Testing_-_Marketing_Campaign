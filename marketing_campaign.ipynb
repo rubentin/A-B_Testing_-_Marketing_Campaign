{
 "cells": [
  {
   "cell_type": "code",
   "execution_count": 1,
   "id": "0e368ba1",
   "metadata": {},
   "outputs": [],
   "source": [
    "# import library\n",
    "\n",
    "import numpy as np\n",
    "import pandas as pd\n",
    "import seaborn as sns\n",
    "import scipy.stats as stats\n",
    "import matplotlib.pyplot as plt\n",
    "\n",
    "#import warnings ignore\n",
    "\n",
    "import warnings\n",
    "warnings.filterwarnings('ignore')"
   ]
  },
  {
   "cell_type": "code",
   "execution_count": 2,
   "id": "9911557c",
   "metadata": {
    "scrolled": true
   },
   "outputs": [
    {
     "data": {
      "text/html": [
       "<div>\n",
       "<style scoped>\n",
       "    .dataframe tbody tr th:only-of-type {\n",
       "        vertical-align: middle;\n",
       "    }\n",
       "\n",
       "    .dataframe tbody tr th {\n",
       "        vertical-align: top;\n",
       "    }\n",
       "\n",
       "    .dataframe thead th {\n",
       "        text-align: right;\n",
       "    }\n",
       "</style>\n",
       "<table border=\"1\" class=\"dataframe\">\n",
       "  <thead>\n",
       "    <tr style=\"text-align: right;\">\n",
       "      <th></th>\n",
       "      <th>Unnamed: 0</th>\n",
       "      <th>user id</th>\n",
       "      <th>test group</th>\n",
       "      <th>converted</th>\n",
       "      <th>total ads</th>\n",
       "      <th>most ads day</th>\n",
       "      <th>most ads hour</th>\n",
       "    </tr>\n",
       "  </thead>\n",
       "  <tbody>\n",
       "    <tr>\n",
       "      <th>0</th>\n",
       "      <td>0</td>\n",
       "      <td>1069124</td>\n",
       "      <td>ad</td>\n",
       "      <td>False</td>\n",
       "      <td>130</td>\n",
       "      <td>Monday</td>\n",
       "      <td>20</td>\n",
       "    </tr>\n",
       "    <tr>\n",
       "      <th>1</th>\n",
       "      <td>1</td>\n",
       "      <td>1119715</td>\n",
       "      <td>ad</td>\n",
       "      <td>False</td>\n",
       "      <td>93</td>\n",
       "      <td>Tuesday</td>\n",
       "      <td>22</td>\n",
       "    </tr>\n",
       "    <tr>\n",
       "      <th>2</th>\n",
       "      <td>2</td>\n",
       "      <td>1144181</td>\n",
       "      <td>ad</td>\n",
       "      <td>False</td>\n",
       "      <td>21</td>\n",
       "      <td>Tuesday</td>\n",
       "      <td>18</td>\n",
       "    </tr>\n",
       "    <tr>\n",
       "      <th>3</th>\n",
       "      <td>3</td>\n",
       "      <td>1435133</td>\n",
       "      <td>ad</td>\n",
       "      <td>False</td>\n",
       "      <td>355</td>\n",
       "      <td>Tuesday</td>\n",
       "      <td>10</td>\n",
       "    </tr>\n",
       "    <tr>\n",
       "      <th>4</th>\n",
       "      <td>4</td>\n",
       "      <td>1015700</td>\n",
       "      <td>ad</td>\n",
       "      <td>False</td>\n",
       "      <td>276</td>\n",
       "      <td>Friday</td>\n",
       "      <td>14</td>\n",
       "    </tr>\n",
       "    <tr>\n",
       "      <th>...</th>\n",
       "      <td>...</td>\n",
       "      <td>...</td>\n",
       "      <td>...</td>\n",
       "      <td>...</td>\n",
       "      <td>...</td>\n",
       "      <td>...</td>\n",
       "      <td>...</td>\n",
       "    </tr>\n",
       "    <tr>\n",
       "      <th>588096</th>\n",
       "      <td>588096</td>\n",
       "      <td>1278437</td>\n",
       "      <td>ad</td>\n",
       "      <td>False</td>\n",
       "      <td>1</td>\n",
       "      <td>Tuesday</td>\n",
       "      <td>23</td>\n",
       "    </tr>\n",
       "    <tr>\n",
       "      <th>588097</th>\n",
       "      <td>588097</td>\n",
       "      <td>1327975</td>\n",
       "      <td>ad</td>\n",
       "      <td>False</td>\n",
       "      <td>1</td>\n",
       "      <td>Tuesday</td>\n",
       "      <td>23</td>\n",
       "    </tr>\n",
       "    <tr>\n",
       "      <th>588098</th>\n",
       "      <td>588098</td>\n",
       "      <td>1038442</td>\n",
       "      <td>ad</td>\n",
       "      <td>False</td>\n",
       "      <td>3</td>\n",
       "      <td>Tuesday</td>\n",
       "      <td>23</td>\n",
       "    </tr>\n",
       "    <tr>\n",
       "      <th>588099</th>\n",
       "      <td>588099</td>\n",
       "      <td>1496395</td>\n",
       "      <td>ad</td>\n",
       "      <td>False</td>\n",
       "      <td>1</td>\n",
       "      <td>Tuesday</td>\n",
       "      <td>23</td>\n",
       "    </tr>\n",
       "    <tr>\n",
       "      <th>588100</th>\n",
       "      <td>588100</td>\n",
       "      <td>1237779</td>\n",
       "      <td>ad</td>\n",
       "      <td>False</td>\n",
       "      <td>1</td>\n",
       "      <td>Tuesday</td>\n",
       "      <td>23</td>\n",
       "    </tr>\n",
       "  </tbody>\n",
       "</table>\n",
       "<p>588101 rows × 7 columns</p>\n",
       "</div>"
      ],
      "text/plain": [
       "        Unnamed: 0  user id test group  converted  total ads most ads day  \\\n",
       "0                0  1069124         ad      False        130       Monday   \n",
       "1                1  1119715         ad      False         93      Tuesday   \n",
       "2                2  1144181         ad      False         21      Tuesday   \n",
       "3                3  1435133         ad      False        355      Tuesday   \n",
       "4                4  1015700         ad      False        276       Friday   \n",
       "...            ...      ...        ...        ...        ...          ...   \n",
       "588096      588096  1278437         ad      False          1      Tuesday   \n",
       "588097      588097  1327975         ad      False          1      Tuesday   \n",
       "588098      588098  1038442         ad      False          3      Tuesday   \n",
       "588099      588099  1496395         ad      False          1      Tuesday   \n",
       "588100      588100  1237779         ad      False          1      Tuesday   \n",
       "\n",
       "        most ads hour  \n",
       "0                  20  \n",
       "1                  22  \n",
       "2                  18  \n",
       "3                  10  \n",
       "4                  14  \n",
       "...               ...  \n",
       "588096             23  \n",
       "588097             23  \n",
       "588098             23  \n",
       "588099             23  \n",
       "588100             23  \n",
       "\n",
       "[588101 rows x 7 columns]"
      ]
     },
     "execution_count": 2,
     "metadata": {},
     "output_type": "execute_result"
    }
   ],
   "source": [
    "# read data file\n",
    "\n",
    "df = pd.read_csv('marketing_AB.csv')\n",
    "df"
   ]
  },
  {
   "cell_type": "code",
   "execution_count": 3,
   "id": "835467a7",
   "metadata": {
    "scrolled": false
   },
   "outputs": [
    {
     "name": "stdout",
     "output_type": "stream",
     "text": [
      "<class 'pandas.core.frame.DataFrame'>\n",
      "RangeIndex: 588101 entries, 0 to 588100\n",
      "Data columns (total 7 columns):\n",
      " #   Column         Non-Null Count   Dtype \n",
      "---  ------         --------------   ----- \n",
      " 0   Unnamed: 0     588101 non-null  int64 \n",
      " 1   user id        588101 non-null  int64 \n",
      " 2   test group     588101 non-null  object\n",
      " 3   converted      588101 non-null  bool  \n",
      " 4   total ads      588101 non-null  int64 \n",
      " 5   most ads day   588101 non-null  object\n",
      " 6   most ads hour  588101 non-null  int64 \n",
      "dtypes: bool(1), int64(4), object(2)\n",
      "memory usage: 27.5+ MB\n"
     ]
    }
   ],
   "source": [
    "# general info dataset\n",
    "\n",
    "df.info()"
   ]
  },
  {
   "cell_type": "markdown",
   "id": "ca29ab6f",
   "metadata": {},
   "source": [
    "## 1. Data Cleaning"
   ]
  },
  {
   "cell_type": "markdown",
   "id": "b1ee3683",
   "metadata": {},
   "source": [
    "Dataset marketing_AB.csv terdiri dari 588101 baris dan 7 kolom. Sebelum masuk pada tahap pengolahan data, akan dilakukan pembersihan dataset terlebih dahulu. Pembersihan dataset yang akan dilakukan meliputi missing value data, duplicates data, dan inconsistent data."
   ]
  },
  {
   "cell_type": "markdown",
   "id": "7fd03046",
   "metadata": {},
   "source": [
    "### 1.1. Missing value checking"
   ]
  },
  {
   "cell_type": "code",
   "execution_count": 4,
   "id": "5f710694",
   "metadata": {
    "scrolled": true
   },
   "outputs": [
    {
     "data": {
      "text/plain": [
       "Unnamed: 0       0\n",
       "user id          0\n",
       "test group       0\n",
       "converted        0\n",
       "total ads        0\n",
       "most ads day     0\n",
       "most ads hour    0\n",
       "dtype: int64"
      ]
     },
     "execution_count": 4,
     "metadata": {},
     "output_type": "execute_result"
    }
   ],
   "source": [
    "# missing value check\n",
    "\n",
    "df.isna().sum()"
   ]
  },
  {
   "cell_type": "markdown",
   "id": "ceba61c9",
   "metadata": {},
   "source": [
    "Tidak terdapat missing value pada dataset."
   ]
  },
  {
   "cell_type": "markdown",
   "id": "01ba284e",
   "metadata": {},
   "source": [
    "### 1.2. Duplicates data checking"
   ]
  },
  {
   "cell_type": "code",
   "execution_count": 5,
   "id": "f99ab083",
   "metadata": {
    "scrolled": false
   },
   "outputs": [
    {
     "data": {
      "text/html": [
       "<div>\n",
       "<style scoped>\n",
       "    .dataframe tbody tr th:only-of-type {\n",
       "        vertical-align: middle;\n",
       "    }\n",
       "\n",
       "    .dataframe tbody tr th {\n",
       "        vertical-align: top;\n",
       "    }\n",
       "\n",
       "    .dataframe thead th {\n",
       "        text-align: right;\n",
       "    }\n",
       "</style>\n",
       "<table border=\"1\" class=\"dataframe\">\n",
       "  <thead>\n",
       "    <tr style=\"text-align: right;\">\n",
       "      <th></th>\n",
       "      <th>Unnamed: 0</th>\n",
       "      <th>user id</th>\n",
       "      <th>test group</th>\n",
       "      <th>converted</th>\n",
       "      <th>total ads</th>\n",
       "      <th>most ads day</th>\n",
       "      <th>most ads hour</th>\n",
       "    </tr>\n",
       "  </thead>\n",
       "  <tbody>\n",
       "  </tbody>\n",
       "</table>\n",
       "</div>"
      ],
      "text/plain": [
       "Empty DataFrame\n",
       "Columns: [Unnamed: 0, user id, test group, converted, total ads, most ads day, most ads hour]\n",
       "Index: []"
      ]
     },
     "execution_count": 5,
     "metadata": {},
     "output_type": "execute_result"
    }
   ],
   "source": [
    "# duplicates check\n",
    "\n",
    "df[df.duplicated(keep = False)]"
   ]
  },
  {
   "cell_type": "code",
   "execution_count": 6,
   "id": "e31549a4",
   "metadata": {},
   "outputs": [
    {
     "data": {
      "text/plain": [
       "0"
      ]
     },
     "execution_count": 6,
     "metadata": {},
     "output_type": "execute_result"
    }
   ],
   "source": [
    "# re-check duplicates\n",
    "\n",
    "df.duplicated().sum()"
   ]
  },
  {
   "cell_type": "markdown",
   "id": "245d97b2",
   "metadata": {},
   "source": [
    "Tidak terdapat duplikat data pada dataset."
   ]
  },
  {
   "cell_type": "markdown",
   "id": "a33d4024",
   "metadata": {},
   "source": [
    "### 1.3. Inconsistent data checking"
   ]
  },
  {
   "cell_type": "code",
   "execution_count": 7,
   "id": "9d11ee5a",
   "metadata": {
    "scrolled": true
   },
   "outputs": [
    {
     "data": {
      "text/plain": [
       "array(['ad', 'psa', False, True, 'Monday', 'Tuesday', 'Friday',\n",
       "       'Saturday', 'Wednesday', 'Sunday', 'Thursday'], dtype=object)"
      ]
     },
     "execution_count": 7,
     "metadata": {},
     "output_type": "execute_result"
    }
   ],
   "source": [
    "# unique value check pada pada colomn dengan tipe data object\n",
    "\n",
    "pd.concat([df['test group'], df['converted'], df['most ads day']]).unique()"
   ]
  },
  {
   "cell_type": "markdown",
   "id": "27d1675b",
   "metadata": {},
   "source": [
    "Tidak terdapat inconsistent data pada dataset."
   ]
  },
  {
   "cell_type": "markdown",
   "id": "38fe93fe",
   "metadata": {},
   "source": [
    "### 1.4. Cleaned data"
   ]
  },
  {
   "cell_type": "code",
   "execution_count": 8,
   "id": "aedeecf1",
   "metadata": {
    "scrolled": true
   },
   "outputs": [
    {
     "name": "stdout",
     "output_type": "stream",
     "text": [
      "<class 'pandas.core.frame.DataFrame'>\n",
      "RangeIndex: 588101 entries, 0 to 588100\n",
      "Data columns (total 7 columns):\n",
      " #   Column         Non-Null Count   Dtype \n",
      "---  ------         --------------   ----- \n",
      " 0   Unnamed: 0     588101 non-null  int64 \n",
      " 1   user id        588101 non-null  int64 \n",
      " 2   test group     588101 non-null  object\n",
      " 3   converted      588101 non-null  bool  \n",
      " 4   total ads      588101 non-null  int64 \n",
      " 5   most ads day   588101 non-null  object\n",
      " 6   most ads hour  588101 non-null  int64 \n",
      "dtypes: bool(1), int64(4), object(2)\n",
      "memory usage: 27.5+ MB\n"
     ]
    }
   ],
   "source": [
    "# cleaned dataset\n",
    "\n",
    "df.info()"
   ]
  },
  {
   "cell_type": "markdown",
   "id": "42b6d0ee",
   "metadata": {},
   "source": [
    "Setelah dilakukan pembersihan, dataset telah siap untuk diolah. Cleaned data terdiri dari 588101 baris dan 7 kolom."
   ]
  },
  {
   "cell_type": "markdown",
   "id": "3d8f6237",
   "metadata": {},
   "source": [
    "## 2. Exploratory Data Analysis"
   ]
  },
  {
   "cell_type": "markdown",
   "id": "d7c0d839",
   "metadata": {},
   "source": [
    "### 2.1. Dataset overview"
   ]
  },
  {
   "cell_type": "code",
   "execution_count": 9,
   "id": "87254b91",
   "metadata": {
    "scrolled": false
   },
   "outputs": [
    {
     "data": {
      "text/html": [
       "<div>\n",
       "<style scoped>\n",
       "    .dataframe tbody tr th:only-of-type {\n",
       "        vertical-align: middle;\n",
       "    }\n",
       "\n",
       "    .dataframe tbody tr th {\n",
       "        vertical-align: top;\n",
       "    }\n",
       "\n",
       "    .dataframe thead th {\n",
       "        text-align: right;\n",
       "    }\n",
       "</style>\n",
       "<table border=\"1\" class=\"dataframe\">\n",
       "  <thead>\n",
       "    <tr style=\"text-align: right;\">\n",
       "      <th></th>\n",
       "      <th>Unnamed: 0</th>\n",
       "      <th>user id</th>\n",
       "      <th>test group</th>\n",
       "      <th>converted</th>\n",
       "      <th>total ads</th>\n",
       "      <th>most ads day</th>\n",
       "      <th>most ads hour</th>\n",
       "    </tr>\n",
       "  </thead>\n",
       "  <tbody>\n",
       "    <tr>\n",
       "      <th>0</th>\n",
       "      <td>0</td>\n",
       "      <td>1069124</td>\n",
       "      <td>ad</td>\n",
       "      <td>False</td>\n",
       "      <td>130</td>\n",
       "      <td>Monday</td>\n",
       "      <td>20</td>\n",
       "    </tr>\n",
       "    <tr>\n",
       "      <th>1</th>\n",
       "      <td>1</td>\n",
       "      <td>1119715</td>\n",
       "      <td>ad</td>\n",
       "      <td>False</td>\n",
       "      <td>93</td>\n",
       "      <td>Tuesday</td>\n",
       "      <td>22</td>\n",
       "    </tr>\n",
       "    <tr>\n",
       "      <th>2</th>\n",
       "      <td>2</td>\n",
       "      <td>1144181</td>\n",
       "      <td>ad</td>\n",
       "      <td>False</td>\n",
       "      <td>21</td>\n",
       "      <td>Tuesday</td>\n",
       "      <td>18</td>\n",
       "    </tr>\n",
       "    <tr>\n",
       "      <th>3</th>\n",
       "      <td>3</td>\n",
       "      <td>1435133</td>\n",
       "      <td>ad</td>\n",
       "      <td>False</td>\n",
       "      <td>355</td>\n",
       "      <td>Tuesday</td>\n",
       "      <td>10</td>\n",
       "    </tr>\n",
       "    <tr>\n",
       "      <th>4</th>\n",
       "      <td>4</td>\n",
       "      <td>1015700</td>\n",
       "      <td>ad</td>\n",
       "      <td>False</td>\n",
       "      <td>276</td>\n",
       "      <td>Friday</td>\n",
       "      <td>14</td>\n",
       "    </tr>\n",
       "  </tbody>\n",
       "</table>\n",
       "</div>"
      ],
      "text/plain": [
       "   Unnamed: 0  user id test group  converted  total ads most ads day  \\\n",
       "0           0  1069124         ad      False        130       Monday   \n",
       "1           1  1119715         ad      False         93      Tuesday   \n",
       "2           2  1144181         ad      False         21      Tuesday   \n",
       "3           3  1435133         ad      False        355      Tuesday   \n",
       "4           4  1015700         ad      False        276       Friday   \n",
       "\n",
       "   most ads hour  \n",
       "0             20  \n",
       "1             22  \n",
       "2             18  \n",
       "3             10  \n",
       "4             14  "
      ]
     },
     "execution_count": 9,
     "metadata": {},
     "output_type": "execute_result"
    }
   ],
   "source": [
    "# dataset overview\n",
    "\n",
    "df.head()"
   ]
  },
  {
   "cell_type": "code",
   "execution_count": 10,
   "id": "3f302b3f",
   "metadata": {},
   "outputs": [
    {
     "data": {
      "text/plain": [
       "Index(['Unnamed: 0', 'user id', 'test group', 'converted', 'total ads',\n",
       "       'most ads day', 'most ads hour'],\n",
       "      dtype='object')"
      ]
     },
     "execution_count": 10,
     "metadata": {},
     "output_type": "execute_result"
    }
   ],
   "source": [
    "# kolom pada dataset\n",
    "\n",
    "df.columns"
   ]
  },
  {
   "cell_type": "markdown",
   "id": "28583345",
   "metadata": {},
   "source": [
    "Terdapat 7 kolom pada dataset:\n",
    "1. __Unnamed: 0__ : index data\n",
    "2. __user id__ : nomor pengguna\n",
    "3. __test group__ : kelompok varian\n",
    "    - psa : control\n",
    "    - ad : treatment\n",
    "4. __converted__ : membeli / tidak membeli\n",
    "    - True : membeli\n",
    "    - False : tidak membeli\n",
    "5. __total ads__ : jumlah total advertisement\n",
    "6. __most ads day__ : hari di mana ads paling sering dilihat\n",
    "7. __most ads hour__ : jam di mana ads paling sering dilihat"
   ]
  },
  {
   "cell_type": "markdown",
   "id": "f1b2a9c0",
   "metadata": {},
   "source": [
    "### 2.2. Conversion data masing-masing group"
   ]
  },
  {
   "cell_type": "code",
   "execution_count": 11,
   "id": "564e3973",
   "metadata": {},
   "outputs": [
    {
     "name": "stdout",
     "output_type": "stream",
     "text": [
      "Banyak user pada group control adalah 23524\n",
      "Banyak user yang convert pada group control adalah 420\n",
      "Conversion rate group control adalah 1.79%\n"
     ]
    }
   ],
   "source": [
    "# data pada group control\n",
    "data_control = df[df['test group'] == 'psa']\n",
    "\n",
    "# banyak user pada group control\n",
    "n_control = data_control.shape[0]\n",
    "print(f'Banyak user pada group control adalah {n_control}')\n",
    "\n",
    "# banyak user yang convert pada group control\n",
    "n_conv_ctr = data_control.converted.sum()\n",
    "print(f'Banyak user yang convert pada group control adalah {n_conv_ctr}')\n",
    "\n",
    "# conversion rate group control\n",
    "conv_ctr = data_control.converted.mean() * 100\n",
    "print(f'Conversion rate group control adalah {conv_ctr:.2f}%')"
   ]
  },
  {
   "cell_type": "code",
   "execution_count": 12,
   "id": "95d12f36",
   "metadata": {},
   "outputs": [
    {
     "name": "stdout",
     "output_type": "stream",
     "text": [
      "Banyak user pada group treatment adalah 564577\n",
      "Banyak user yang convert pada group treatment adalah 14423\n",
      "Conversion rate group treatment adalah 2.55%\n"
     ]
    }
   ],
   "source": [
    "# data pada group treatment\n",
    "data_treatment = df[df['test group'] == 'ad']\n",
    "\n",
    "# banyak user pada group treatment\n",
    "n_treatment = data_treatment.shape[0]\n",
    "print(f'Banyak user pada group treatment adalah {n_treatment}')\n",
    "\n",
    "# banyak user yang convert pada group treatment\n",
    "n_conv_trt = data_treatment.converted.sum()\n",
    "print(f'Banyak user yang convert pada group treatment adalah {n_conv_trt}')\n",
    "\n",
    "# conversion rate group treatment\n",
    "conv_trt = data_treatment.converted.mean() * 100\n",
    "print(f'Conversion rate group treatment adalah {conv_trt:.2f}%')"
   ]
  },
  {
   "cell_type": "code",
   "execution_count": 13,
   "id": "4af1ea59",
   "metadata": {
    "scrolled": true
   },
   "outputs": [
    {
     "data": {
      "text/html": [
       "<div>\n",
       "<style scoped>\n",
       "    .dataframe tbody tr th:only-of-type {\n",
       "        vertical-align: middle;\n",
       "    }\n",
       "\n",
       "    .dataframe tbody tr th {\n",
       "        vertical-align: top;\n",
       "    }\n",
       "\n",
       "    .dataframe thead th {\n",
       "        text-align: right;\n",
       "    }\n",
       "</style>\n",
       "<table border=\"1\" class=\"dataframe\">\n",
       "  <thead>\n",
       "    <tr style=\"text-align: right;\">\n",
       "      <th></th>\n",
       "      <th>test group</th>\n",
       "      <th>converted</th>\n",
       "    </tr>\n",
       "  </thead>\n",
       "  <tbody>\n",
       "    <tr>\n",
       "      <th>0</th>\n",
       "      <td>ad</td>\n",
       "      <td>564577</td>\n",
       "    </tr>\n",
       "    <tr>\n",
       "      <th>1</th>\n",
       "      <td>psa</td>\n",
       "      <td>23524</td>\n",
       "    </tr>\n",
       "  </tbody>\n",
       "</table>\n",
       "</div>"
      ],
      "text/plain": [
       "  test group  converted\n",
       "0         ad     564577\n",
       "1        psa      23524"
      ]
     },
     "execution_count": 13,
     "metadata": {},
     "output_type": "execute_result"
    }
   ],
   "source": [
    "df.groupby('test group').agg({'converted':'count'}).reset_index()"
   ]
  },
  {
   "cell_type": "code",
   "execution_count": 14,
   "id": "1b7839de",
   "metadata": {},
   "outputs": [
    {
     "data": {
      "text/html": [
       "<div>\n",
       "<style scoped>\n",
       "    .dataframe tbody tr th:only-of-type {\n",
       "        vertical-align: middle;\n",
       "    }\n",
       "\n",
       "    .dataframe tbody tr th {\n",
       "        vertical-align: top;\n",
       "    }\n",
       "\n",
       "    .dataframe thead th {\n",
       "        text-align: right;\n",
       "    }\n",
       "</style>\n",
       "<table border=\"1\" class=\"dataframe\">\n",
       "  <thead>\n",
       "    <tr style=\"text-align: right;\">\n",
       "      <th></th>\n",
       "      <th>test group</th>\n",
       "      <th>converted</th>\n",
       "    </tr>\n",
       "  </thead>\n",
       "  <tbody>\n",
       "    <tr>\n",
       "      <th>0</th>\n",
       "      <td>ad</td>\n",
       "      <td>0.025547</td>\n",
       "    </tr>\n",
       "    <tr>\n",
       "      <th>1</th>\n",
       "      <td>psa</td>\n",
       "      <td>0.017854</td>\n",
       "    </tr>\n",
       "  </tbody>\n",
       "</table>\n",
       "</div>"
      ],
      "text/plain": [
       "  test group  converted\n",
       "0         ad   0.025547\n",
       "1        psa   0.017854"
      ]
     },
     "execution_count": 14,
     "metadata": {},
     "output_type": "execute_result"
    }
   ],
   "source": [
    "df.groupby('test group').agg({'converted':'mean'}).reset_index()"
   ]
  },
  {
   "cell_type": "markdown",
   "id": "73f037c8",
   "metadata": {},
   "source": [
    "|Group|#User|Conversion Rate\n",
    "|:--|:--:|:--:|\n",
    "|Control|23524|0.0179|\n",
    "|Treatment|564577|0.0255|"
   ]
  },
  {
   "cell_type": "code",
   "execution_count": 15,
   "id": "aaedf251",
   "metadata": {},
   "outputs": [
    {
     "data": {
      "image/png": "[encoded data removed]",
      "text/plain": [
       "<Figure size 1400x400 with 2 Axes>"
      ]
     },
     "metadata": {},
     "output_type": "display_data"
    }
   ],
   "source": [
    "# visualisasi jumlah user & conversion rate\n",
    "\n",
    "# membuat subplot 1 x 2\n",
    "fig, ax = plt.subplots(ncols = 2, nrows = 1, figsize = (14, 4))\n",
    "\n",
    "# membuat plot\n",
    "sns.barplot(data = df.groupby('test group').agg({'converted':'count'}).reset_index(), x = 'test group', y = 'converted', ax = ax[0])\n",
    "sns.barplot(data = df.groupby('test group').agg({'converted':'mean'}).reset_index(), x = 'test group', y = 'converted', ax = ax[1])\n",
    "\n",
    "# membuat title\n",
    "ax[0].set_title('Jumlah User Tiap Group')\n",
    "ax[1].set_title('Conversion Rate Tiap Group')\n",
    "\n",
    "# membuat nama label x\n",
    "ax[0].set_xlabel('Group')\n",
    "ax[1].set_xlabel('Group')\n",
    "\n",
    "# membuat nama label y\n",
    "ax[0].set_ylabel('Number of user')\n",
    "ax[1].set_ylabel('Conversion rate')\n",
    "\n",
    "## menampilkan plot\n",
    "plt.show()"
   ]
  },
  {
   "cell_type": "markdown",
   "id": "ab362993",
   "metadata": {},
   "source": [
    "### 2.3. Standar deviasi 'converted'"
   ]
  },
  {
   "cell_type": "code",
   "execution_count": 16,
   "id": "74f8ce4c",
   "metadata": {},
   "outputs": [
    {
     "name": "stdout",
     "output_type": "stream",
     "text": [
      "Standar deviasi populasi adalah 0.1568\n"
     ]
    }
   ],
   "source": [
    "# standar deviasi\n",
    "\n",
    "std_dev = df.converted.std()\n",
    "print(f'Standar deviasi populasi adalah {std_dev:.4f}')"
   ]
  },
  {
   "cell_type": "markdown",
   "id": "59d18a5a",
   "metadata": {},
   "source": [
    "## 3. A/B Testing"
   ]
  },
  {
   "cell_type": "markdown",
   "id": "5a279b72",
   "metadata": {},
   "source": [
    "### 3.1. Sample size"
   ]
  },
  {
   "cell_type": "code",
   "execution_count": 17,
   "id": "47bf8830",
   "metadata": {},
   "outputs": [],
   "source": [
    "# significant level\n",
    "alpha = 0.05\n",
    "\n",
    "# power level (1 - beta)\n",
    "beta = 0.2\n",
    "\n",
    "# difference\n",
    "delta = 0.01\n",
    "\n",
    "# standar deviasi\n",
    "std_dev = df.converted.std()"
   ]
  },
  {
   "cell_type": "code",
   "execution_count": 18,
   "id": "711c19ca",
   "metadata": {},
   "outputs": [
    {
     "data": {
      "text/plain": [
       "(1.959963984540054, 0.8416212335729143)"
      ]
     },
     "execution_count": 18,
     "metadata": {},
     "output_type": "execute_result"
    }
   ],
   "source": [
    "# calculate z value\n",
    "z_alpha = stats.norm.ppf(1 - alpha/2)\n",
    "z_beta = stats.norm.ppf(1 - beta)\n",
    "\n",
    "z_alpha, z_beta"
   ]
  },
  {
   "cell_type": "code",
   "execution_count": 19,
   "id": "f6030c2b",
   "metadata": {},
   "outputs": [
    {
     "name": "stdout",
     "output_type": "stream",
     "text": [
      "Minimum sample yang dibutuhkan tiap group adalah: 3862\n"
     ]
    }
   ],
   "source": [
    "import math\n",
    "\n",
    "# calculate sample size\n",
    "n_sample = 2 * (std_dev ** 2) * ((z_alpha + z_beta) ** 2) / (delta ** 2)\n",
    "\n",
    "print(f\"Minimum sample yang dibutuhkan tiap group adalah: {math.ceil(n_sample)}\")"
   ]
  },
  {
   "cell_type": "code",
   "execution_count": 20,
   "id": "8618a557",
   "metadata": {},
   "outputs": [
    {
     "data": {
      "text/html": [
       "<div>\n",
       "<style scoped>\n",
       "    .dataframe tbody tr th:only-of-type {\n",
       "        vertical-align: middle;\n",
       "    }\n",
       "\n",
       "    .dataframe tbody tr th {\n",
       "        vertical-align: top;\n",
       "    }\n",
       "\n",
       "    .dataframe thead th {\n",
       "        text-align: right;\n",
       "    }\n",
       "</style>\n",
       "<table border=\"1\" class=\"dataframe\">\n",
       "  <thead>\n",
       "    <tr style=\"text-align: right;\">\n",
       "      <th></th>\n",
       "      <th>Unnamed: 0</th>\n",
       "      <th>user id</th>\n",
       "      <th>test group</th>\n",
       "      <th>converted</th>\n",
       "      <th>total ads</th>\n",
       "      <th>most ads day</th>\n",
       "      <th>most ads hour</th>\n",
       "    </tr>\n",
       "  </thead>\n",
       "  <tbody>\n",
       "    <tr>\n",
       "      <th>29212</th>\n",
       "      <td>29212</td>\n",
       "      <td>922089</td>\n",
       "      <td>psa</td>\n",
       "      <td>False</td>\n",
       "      <td>54</td>\n",
       "      <td>Wednesday</td>\n",
       "      <td>13</td>\n",
       "    </tr>\n",
       "    <tr>\n",
       "      <th>550601</th>\n",
       "      <td>550601</td>\n",
       "      <td>914594</td>\n",
       "      <td>psa</td>\n",
       "      <td>False</td>\n",
       "      <td>2</td>\n",
       "      <td>Tuesday</td>\n",
       "      <td>11</td>\n",
       "    </tr>\n",
       "    <tr>\n",
       "      <th>585302</th>\n",
       "      <td>585302</td>\n",
       "      <td>913531</td>\n",
       "      <td>psa</td>\n",
       "      <td>False</td>\n",
       "      <td>2</td>\n",
       "      <td>Tuesday</td>\n",
       "      <td>10</td>\n",
       "    </tr>\n",
       "    <tr>\n",
       "      <th>85631</th>\n",
       "      <td>85631</td>\n",
       "      <td>905163</td>\n",
       "      <td>psa</td>\n",
       "      <td>False</td>\n",
       "      <td>2</td>\n",
       "      <td>Monday</td>\n",
       "      <td>11</td>\n",
       "    </tr>\n",
       "    <tr>\n",
       "      <th>156546</th>\n",
       "      <td>156546</td>\n",
       "      <td>913880</td>\n",
       "      <td>psa</td>\n",
       "      <td>False</td>\n",
       "      <td>33</td>\n",
       "      <td>Sunday</td>\n",
       "      <td>16</td>\n",
       "    </tr>\n",
       "  </tbody>\n",
       "</table>\n",
       "</div>"
      ],
      "text/plain": [
       "        Unnamed: 0  user id test group  converted  total ads most ads day  \\\n",
       "29212        29212   922089        psa      False         54    Wednesday   \n",
       "550601      550601   914594        psa      False          2      Tuesday   \n",
       "585302      585302   913531        psa      False          2      Tuesday   \n",
       "85631        85631   905163        psa      False          2       Monday   \n",
       "156546      156546   913880        psa      False         33       Sunday   \n",
       "\n",
       "        most ads hour  \n",
       "29212              13  \n",
       "550601             11  \n",
       "585302             10  \n",
       "85631              11  \n",
       "156546             16  "
      ]
     },
     "execution_count": 20,
     "metadata": {},
     "output_type": "execute_result"
    }
   ],
   "source": [
    "# randomization sample eksperimen\n",
    "sample_size = 3862\n",
    "\n",
    "# randomization group kontrol\n",
    "control_group = data_control.sample(sample_size, random_state = 97)\n",
    "\n",
    "# randomization group treatment\n",
    "treatment_group = data_treatment.sample(sample_size, random_state = 97)\n",
    "\n",
    "# menggabungkan group control & treatment menjadi satu dataset eksperimen\n",
    "df_exp = pd.concat([control_group, treatment_group])\n",
    "df_exp.head()"
   ]
  },
  {
   "cell_type": "markdown",
   "id": "7a0fc00e",
   "metadata": {},
   "source": [
    "### 3.2. Uji Hipotesis"
   ]
  },
  {
   "cell_type": "code",
   "execution_count": 21,
   "id": "1a746812",
   "metadata": {},
   "outputs": [
    {
     "name": "stdout",
     "output_type": "stream",
     "text": [
      "Banyak user group control pada data eksperimen adalah 3862\n",
      "Banyak user group control yang convert pada data eksperimen adalah 63\n",
      "Conversion rate group control pada data eksperimen adalah 1.63%\n"
     ]
    }
   ],
   "source": [
    "# banyak user group control pada data eksperimen\n",
    "n_ctr_exp = control_group.shape[0]\n",
    "print(f'Banyak user group control pada data eksperimen adalah {n_ctr_exp}')\n",
    "\n",
    "# banyak user group control yang convert pada data eksperimen\n",
    "n_conv_ctr_exp = control_group.converted.sum()\n",
    "print(f'Banyak user group control yang convert pada data eksperimen adalah {n_conv_ctr_exp}')\n",
    "\n",
    "# conversion rate group control pada data eksperimen\n",
    "conv_ctr_exp = control_group.converted.mean() * 100\n",
    "print(f'Conversion rate group control pada data eksperimen adalah {conv_ctr_exp:.2f}%')"
   ]
  },
  {
   "cell_type": "code",
   "execution_count": 22,
   "id": "79040924",
   "metadata": {},
   "outputs": [
    {
     "name": "stdout",
     "output_type": "stream",
     "text": [
      "Banyak user group treatment pada data eksperimen adalah 3862\n",
      "Banyak user group treatment yang convert pada data eksperimen adalah 89\n",
      "Conversion rate group treatment pada data eksperimen adalah 2.30%\n"
     ]
    }
   ],
   "source": [
    "# banyak user group treatment pada data eksperimen\n",
    "n_trt_exp = treatment_group.shape[0]\n",
    "print(f'Banyak user group treatment pada data eksperimen adalah {n_trt_exp}')\n",
    "\n",
    "# banyak user group treatment yang convert pada data eksperimen\n",
    "n_conv_trt_exp = treatment_group.converted.sum()\n",
    "print(f'Banyak user group treatment yang convert pada data eksperimen adalah {n_conv_trt_exp}')\n",
    "\n",
    "# conversion rate group treatment pada data eksperimen\n",
    "conv_trt_exp = treatment_group.converted.mean() * 100\n",
    "print(f'Conversion rate group treatment pada data eksperimen adalah {conv_trt_exp:.2f}%')"
   ]
  },
  {
   "cell_type": "markdown",
   "id": "180389d3",
   "metadata": {},
   "source": [
    "|Experiment|#User|Conversion Rate\n",
    "|:--|:--:|:--:|\n",
    "|Control|3862|0.0163|\n",
    "|Treatment|3862|0.0230|"
   ]
  },
  {
   "cell_type": "code",
   "execution_count": 23,
   "id": "b46e627b",
   "metadata": {},
   "outputs": [
    {
     "data": {
      "image/png": "[encoded data removed]",
      "text/plain": [
       "<Figure size 1400x400 with 2 Axes>"
      ]
     },
     "metadata": {},
     "output_type": "display_data"
    }
   ],
   "source": [
    "# visualisasi jumlah user & conversion rate\n",
    "\n",
    "# membuat subplot 1 x 2\n",
    "fig, ax = plt.subplots(ncols = 2, nrows = 1, figsize = (14, 4))\n",
    "\n",
    "# membuat plot\n",
    "sns.barplot(data = df_exp.groupby('test group').agg({'converted':'count'}).reset_index(), x = 'test group', y = 'converted', ax = ax[0])\n",
    "sns.barplot(data = df_exp.groupby('test group').agg({'converted':'mean'}).reset_index(), x = 'test group', y = 'converted', ax = ax[1])\n",
    "\n",
    "# membuat title\n",
    "ax[0].set_title('Jumlah Sample Tiap Group')\n",
    "ax[1].set_title('Conversion Rate Tiap Group')\n",
    "\n",
    "# membuat nama label x\n",
    "ax[0].set_xlabel('Group')\n",
    "ax[1].set_xlabel('Group')\n",
    "\n",
    "# membuat nama label y\n",
    "ax[0].set_ylabel('Number of sample')\n",
    "ax[1].set_ylabel('Conversion rate')\n",
    "\n",
    "## menampilkan plot\n",
    "plt.show()"
   ]
  },
  {
   "cell_type": "markdown",
   "id": "7a25c611",
   "metadata": {},
   "source": [
    "Dari bar chart di atas, dapat dilihat bahwa conversion rate group treatment (**2.30%**) lebih tinggi dari conversion rate group control (**1.63%**)."
   ]
  },
  {
   "cell_type": "markdown",
   "id": "72879fcc",
   "metadata": {},
   "source": [
    "#### 1. Mendefinisikan Hipotesis\n",
    "\n",
    "- Membuktikan bahwa **conversion rate group treatment** (dengan melihat ads) adalah **lebih tinggi**  dari **conversion rate group control** (dengan melihat PSA).\n",
    "- misal,\n",
    "  - $p_1$ adalah conversion rate **ads (treatment)** \n",
    "  - $p_2$ adalah conversion rate **PSA (control)**\n",
    "- maka,\n",
    "  - $H_0$ : $p_1$ $\\leq$ $p_2$\n",
    "  - $H_1$ : $p_1$ $>$ $p_2$"
   ]
  },
  {
   "cell_type": "markdown",
   "id": "5c32fffb",
   "metadata": {},
   "source": [
    "#### 2. Statistik uji\n",
    "\n",
    "Karena ingin membuktikan proporsi mana yang lebih besar antara PSA & ads, maka uji statistik yang digunakan adalah z-test pada 2 sampel. Sampel 1 adalah user dengan ads (group treatment), dan sampel 2 adalah user dengan PSA (group control)."
   ]
  },
  {
   "cell_type": "markdown",
   "id": "f12e564e",
   "metadata": {},
   "source": [
    "\n"
   ]
  },
  {
   "cell_type": "markdown",
   "id": "b5a80034",
   "metadata": {
    "id": "R6aH4wnel1En"
   },
   "source": [
    "#### 3. Aturan keputusan\n",
    "\n",
    "Dalam membuat keputusan uji statistik, kita dapat menggunakan :\n",
    "- Perbandingan z-statistics dengan critical value\n",
    "    - One-tailed (right), $z > z_{\\alpha}$  → tolak $H_0$\n",
    "\n",
    "- Perbandingan p-value dengan alpha\n",
    "  - p-value < $\\alpha$ → tolak $H_0$"
   ]
  },
  {
   "cell_type": "markdown",
   "id": "3899d2e2",
   "metadata": {},
   "source": [
    "#### 4. Hitung statistik uji"
   ]
  },
  {
   "cell_type": "code",
   "execution_count": 24,
   "id": "1b73748c",
   "metadata": {},
   "outputs": [],
   "source": [
    "# total convert\n",
    "count_convert = [n_conv_trt_exp, n_conv_ctr_exp] \n",
    "\n",
    "# total observasi\n",
    "count_observation = [n_trt_exp, n_ctr_exp]\n",
    "\n",
    "# uji pihak kanan '>'\n",
    "alternative_option = 'larger'"
   ]
  },
  {
   "cell_type": "code",
   "execution_count": 25,
   "id": "7f80ba4c",
   "metadata": {},
   "outputs": [
    {
     "name": "stdout",
     "output_type": "stream",
     "text": [
      "Z stats : 2.1299\n",
      "P-value : 0.0166\n"
     ]
    }
   ],
   "source": [
    "# import library\n",
    "from statsmodels.stats.proportion import proportions_ztest\n",
    "\n",
    "# panggil fungsi\n",
    "z_stat, p_value = proportions_ztest(count = count_convert,\n",
    "                                       nobs = count_observation,\n",
    "                                       alternative = alternative_option)\n",
    "\n",
    "print(f\"Z stats : {z_stat:.4f}\")\n",
    "print(f\"P-value : {p_value:.4f}\")"
   ]
  },
  {
   "cell_type": "code",
   "execution_count": 26,
   "id": "e1e74c55",
   "metadata": {},
   "outputs": [
    {
     "name": "stdout",
     "output_type": "stream",
     "text": [
      "Z critical : 1.6449\n"
     ]
    }
   ],
   "source": [
    "from scipy import stats\n",
    "\n",
    "# Z critical value\n",
    "alpha = 0.05\n",
    "z_crit = stats.norm.ppf(1 - alpha)\n",
    "\n",
    "print(f\"Z critical : {z_crit:.4f}\")"
   ]
  },
  {
   "cell_type": "markdown",
   "id": "e5400ebe",
   "metadata": {},
   "source": [
    "#### 5. Pengambilan keputusan"
   ]
  },
  {
   "cell_type": "code",
   "execution_count": 27,
   "id": "60f51093",
   "metadata": {
    "colab": {
     "base_uri": "https://localhost:8080/"
    },
    "id": "BgL6WjrHnRhM",
    "outputId": "d093f468-9677-4637-e1f8-82b543df733d"
   },
   "outputs": [
    {
     "name": "stdout",
     "output_type": "stream",
     "text": [
      "Decision : Reject H0\n"
     ]
    }
   ],
   "source": [
    "# pengambilan keputusan dari perbandingan z-stats dan z-crit\n",
    "\n",
    "if z_stat > z_crit:\n",
    "    print(\"Decision : Reject H0\")\n",
    "else:\n",
    "    print(\"Decision : Fail to Reject H0\")"
   ]
  },
  {
   "cell_type": "code",
   "execution_count": 28,
   "id": "76ff7b64",
   "metadata": {
    "colab": {
     "base_uri": "https://localhost:8080/"
    },
    "id": "fOyclcDInRhN",
    "outputId": "4143dacc-0439-4101-80fc-d60e0a1c8da1"
   },
   "outputs": [
    {
     "name": "stdout",
     "output_type": "stream",
     "text": [
      "Decision : Reject H0\n"
     ]
    }
   ],
   "source": [
    "# pengambilan keputusan dari perbandingan P-Value dan alpha.\n",
    "\n",
    "if p_value<0.05:\n",
    "    print(\"Decision : Reject H0\")\n",
    "else:\n",
    "    print(\"Decision : Fail to reject H0\")"
   ]
  },
  {
   "cell_type": "markdown",
   "id": "b81c5b32",
   "metadata": {},
   "source": [
    "Dari perhitungan Z-stats maupun P-value, diambil keputusan untuk tolak H0. Maka, dengan tingkat keyakinan 95%, terdapat cukup bukti bahwa **conversion rate group treatment** (dengan melihat ads) **lebih tinggi** dibandingkan **conversion rate group control** (dengan melihat PSA)."
   ]
  },
  {
   "cell_type": "markdown",
   "id": "fb170d28",
   "metadata": {},
   "source": [
    "## 3.3. SRM dengan Chi-square Test"
   ]
  },
  {
   "cell_type": "code",
   "execution_count": 29,
   "id": "926eb38b",
   "metadata": {},
   "outputs": [
    {
     "name": "stdout",
     "output_type": "stream",
     "text": [
      "% control   : 50.00%\n",
      "% treatment : 50.00%\n"
     ]
    }
   ],
   "source": [
    "# total user\n",
    "n_total = control_group.shape[0] + treatment_group.shape[0]\n",
    "\n",
    "# percentage in each group\n",
    "persen_ctr = control_group.shape[0] / n_total * 100\n",
    "persen_trt = treatment_group.shape[0] / n_total * 100\n",
    "\n",
    "print(f\"% control   : {persen_ctr:.2f}%\")\n",
    "print(f\"% treatment : {persen_trt:.2f}%\")"
   ]
  },
  {
   "cell_type": "markdown",
   "id": "78429a68",
   "metadata": {},
   "source": [
    "|Experiment|#User|Percentage\n",
    "|:--|:--:|:--:|\n",
    "|Control|3862|50%|\n",
    "|Treatment|3862|50%|"
   ]
  },
  {
   "cell_type": "markdown",
   "id": "ba1039dd",
   "metadata": {},
   "source": [
    "Dari data di atas, terlihat bahwa tidak terdapat sampling ratio mismatch pada data eksperimen. Untuk membuktikan bahwa tidak terdapat SRM issue, maka akan dilakukan chi-square test."
   ]
  },
  {
   "cell_type": "markdown",
   "id": "fbba30ab",
   "metadata": {
    "id": "IEbjH3b2zNJl"
   },
   "source": [
    "#### 1. Mendefinisikan hipotesis ($H_0$ dan $H_1$)\n",
    "\n",
    "$H_0$  : No SRM detected\n",
    "\n",
    "$H_1$  : SRM detected"
   ]
  },
  {
   "cell_type": "markdown",
   "id": "ed8b4bb3",
   "metadata": {
    "id": "YgduPL26kxHT"
   },
   "source": [
    "#### 2. Statistik uji (chi-square statistics)\n",
    "\n",
    "$$ \\chi^2 = \\sum \\frac{\\left ( \\text{observed - expected} \\right )^2}{\\text{expected}} $$\n",
    "\n",
    "Where :\n",
    "- Observed: the control and variation traffic volumes (sample size), respectively\n",
    "- Expected: the expected values for control and treatment — i.e. the total observed divided by 2\n"
   ]
  },
  {
   "cell_type": "code",
   "execution_count": 30,
   "id": "b1e1740c",
   "metadata": {},
   "outputs": [
    {
     "data": {
      "text/plain": [
       "3862.0"
      ]
     },
     "execution_count": 30,
     "metadata": {},
     "output_type": "execute_result"
    }
   ],
   "source": [
    "# expected number of user in each group\n",
    "\n",
    "n_exp = n_total / 2\n",
    "n_exp"
   ]
  },
  {
   "cell_type": "markdown",
   "id": "cf31081f",
   "metadata": {},
   "source": [
    "|Group|Observed|Expected\n",
    "|:--|:--:|:--:|\n",
    "|Control|3862|3862|\n",
    "|Treatment|3862|3862|"
   ]
  },
  {
   "cell_type": "code",
   "execution_count": 31,
   "id": "99cad77a",
   "metadata": {
    "id": "NnuNDTw0SZdQ"
   },
   "outputs": [],
   "source": [
    "observed = [ n_ctr_exp, n_trt_exp ]\n",
    "expected = [ n_exp, n_exp ]"
   ]
  },
  {
   "cell_type": "code",
   "execution_count": 32,
   "id": "6f5cc04c",
   "metadata": {
    "colab": {
     "base_uri": "https://localhost:8080/"
    },
    "id": "poAx0uv_WVV0",
    "outputId": "93c84c89-308d-4e5c-fc47-ed6661a04420"
   },
   "outputs": [
    {
     "name": "stdout",
     "output_type": "stream",
     "text": [
      "Power_divergenceResult(statistic=0.0, pvalue=1.0)\n"
     ]
    }
   ],
   "source": [
    "# import chi-square\n",
    "from scipy.stats import chisquare\n",
    "\n",
    "# calculate chi-square statistics\n",
    "chi = chisquare(observed, f_exp = expected)\n",
    "print(chi)"
   ]
  },
  {
   "cell_type": "markdown",
   "id": "5d43f059",
   "metadata": {
    "id": "R6aH4wnel1En"
   },
   "source": [
    "#### 3. Aturan keputusan\n",
    "\n",
    "Dalam membuat keputusan uji statistik, kita dapat menggunakan :\n",
    "- Perbandingan chi-square statistics dengan critical value\n",
    "    -  $\\chi^2 > \\chi^2_{\\alpha,dof}$ → tolak $H_0$\n",
    "\n",
    "- Perbandingan p-value dengan alpha\n",
    "  - p-value < $\\alpha$ → tolak $H_0$"
   ]
  },
  {
   "cell_type": "markdown",
   "id": "0e371e72",
   "metadata": {
    "id": "R6aH4wnel1En"
   },
   "source": [
    "#### 4. Hitung statistik uji\n",
    "\n",
    "Normally, one would look for a p-value of 0.05 or less to proof of SRM. The problem with 0.05 is that it’s not strict enough for our purposes. Using this might give us a false signal. What we need is to be stricter for our test. So we use significance level 1%.\n",
    "\n",
    "degree of freedom (dof) is calculated as: \n",
    "$$ dof = (rows − 1) × (columns − 1) $$"
   ]
  },
  {
   "cell_type": "code",
   "execution_count": 33,
   "id": "5659b1df",
   "metadata": {},
   "outputs": [
    {
     "name": "stdout",
     "output_type": "stream",
     "text": [
      "Critical value: 6.635\n"
     ]
    }
   ],
   "source": [
    "# critical value is the chi-square value at alpha\n",
    "alpha = 0.01\n",
    "dof = (2 - 1) * (2 - 1)  \n",
    "\n",
    "import scipy\n",
    "\n",
    "chi_critical = scipy.stats.chi2.ppf(1 - alpha, dof)\n",
    "print(f\"Critical value: {chi_critical:.3f}\")"
   ]
  },
  {
   "cell_type": "markdown",
   "id": "7a9fa1b0",
   "metadata": {},
   "source": [
    "#### 5. Pengambilan keputusan"
   ]
  },
  {
   "cell_type": "code",
   "execution_count": 34,
   "id": "5328ac84",
   "metadata": {},
   "outputs": [
    {
     "name": "stdout",
     "output_type": "stream",
     "text": [
      "Fail to reject H0 : No SRM\n"
     ]
    }
   ],
   "source": [
    "# pengambilan keputusan dari perbandingan chi-square stats dan chi-square critical\n",
    "\n",
    "if chi[0] > chi_critical:\n",
    "    print(\"Reject H0 : SRM may be present.\")\n",
    "else:\n",
    "    print(\"Fail to reject H0 : No SRM\")"
   ]
  },
  {
   "cell_type": "code",
   "execution_count": 35,
   "id": "9ae1a325",
   "metadata": {},
   "outputs": [
    {
     "name": "stdout",
     "output_type": "stream",
     "text": [
      "Fail to reject H0 : No SRM.\n"
     ]
    }
   ],
   "source": [
    "# pengambilan keputusan dari perbandingan P-Value dan alpha.\n",
    "\n",
    "if chi[1] < 0.01:\n",
    "    print('Reject H0 : SRM may be present.')\n",
    "else:\n",
    "    print('Fail to reject H0 : No SRM.')"
   ]
  },
  {
   "cell_type": "markdown",
   "id": "8e73cdb6",
   "metadata": {},
   "source": [
    "Dari perhitungan Chi-square statistics dan P-value, memberi keyakinan bahwa dalam data eksperimen **tidak terdapat SRM**."
   ]
  },
  {
   "cell_type": "code",
   "execution_count": null,
   "id": "1b42d83a",
   "metadata": {},
   "outputs": [],
   "source": []
  }
 ],
 "metadata": {
  "kernelspec": {
   "display_name": "Python 3 (ipykernel)",
   "language": "python",
   "name": "python3"
  },
  "language_info": {
   "codemirror_mode": {
    "name": "ipython",
    "version": 3
   },
   "file_extension": ".py",
   "mimetype": "text/x-python",
   "name": "python",
   "nbconvert_exporter": "python",
   "pygments_lexer": "ipython3",
   "version": "3.9.13"
  }
 },
 "nbformat": 4,
 "nbformat_minor": 5
}
